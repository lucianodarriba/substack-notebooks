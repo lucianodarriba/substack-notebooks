{
 "cells": [
  {
   "cell_type": "markdown",
   "metadata": {},
   "source": [
    "# Master Python for LLMs - Part 4\n",
    "\n",
    "## Explicit typing in Python: improve code clarity and maintainability\n",
    "\n",
    "### Introduction to explicit typing\n",
    "\n",
    "#### Basic type annotations"
   ]
  },
  {
   "cell_type": "code",
   "execution_count": 1,
   "metadata": {},
   "outputs": [],
   "source": [
    "def add_numbers(a: int, b: int) -> int:\n",
    "    return a + b\n",
    "\n",
    "def process_text(text: str, uppercase: bool = False) -> str:\n",
    "    return text.upper() if uppercase else text"
   ]
  },
  {
   "cell_type": "markdown",
   "metadata": {},
   "source": [
    "### Composite and generic types"
   ]
  },
  {
   "cell_type": "code",
   "execution_count": 2,
   "metadata": {},
   "outputs": [],
   "source": [
    "from typing import List, Dict, Tuple, Optional, Union\n",
    "\n",
    "def filter_numbers(\n",
    "    numbers: List[int],\n",
    "    minimum_value: Optional[int] = None\n",
    ") -> List[int]:\n",
    "    \"\"\"\n",
    "    Filters a list of numbers by a minimum value.\n",
    "\n",
    "    Args:\n",
    "        numbers: List of numbers to filter\n",
    "        minimum_value: Minimum value for filtering (optional)\n",
    "\n",
    "    Returns:\n",
    "        Filtered list of numbers\n",
    "    \"\"\"\n",
    "    if minimum_value is not None:\n",
    "        return [num for num in numbers if num >= minimum_value]\n",
    "    return numbers\n",
    "\n",
    "def get_user(\n",
    "    data: Dict[str, Union[str, int]]\n",
    ") -> Tuple[str, str, int]:\n",
    "    \"\"\"\n",
    "    Extracts user information from a dictionary.\n",
    "\n",
    "    Args:\n",
    "        data: Dictionary with user information\n",
    "\n",
    "    Returns:\n",
    "        Tuple with name, surname, and age\n",
    "    \"\"\"\n",
    "    return (\n",
    "        data.get('name', ''),\n",
    "        data.get('surname', ''),\n",
    "        data.get('age', 0)\n",
    "    )"
   ]
  }
 ],
 "metadata": {
  "kernelspec": {
   "display_name": "Python 3",
   "language": "python",
   "name": "python3"
  },
  "language_info": {
   "codemirror_mode": {
    "name": "ipython",
    "version": 3
   },
   "file_extension": ".py",
   "mimetype": "text/x-python",
   "name": "python",
   "nbconvert_exporter": "python",
   "pygments_lexer": "ipython3",
   "version": "3.11.8"
  }
 },
 "nbformat": 4,
 "nbformat_minor": 2
}
