{
 "cells": [
  {
   "cell_type": "markdown",
   "metadata": {},
   "source": [
    "# Master Python for LLMs - Part 2\n",
    "\n",
    "## Lists and Dictionaries for Text Processing\n",
    "\n",
    "### 1. Operations with Token Lists\n",
    "\n",
    "#### Basic List Manipulation"
   ]
  },
  {
   "cell_type": "code",
   "execution_count": 1,
   "metadata": {},
   "outputs": [],
   "source": [
    "# Basic creation and manipulation\n",
    "tokens = ['[START]', 'Hello', 'world', '[END]']"
   ]
  },
  {
   "cell_type": "markdown",
   "metadata": {},
   "source": [
    "#### Slicing to Remove Special Tokens"
   ]
  },
  {
   "cell_type": "code",
   "execution_count": 2,
   "metadata": {},
   "outputs": [
    {
     "name": "stdout",
     "output_type": "stream",
     "text": [
      "Tokens without markers: ['Hello', 'world']\n"
     ]
    }
   ],
   "source": [
    "clean_tokens = tokens[1:-1]\n",
    "print(\"Tokens without markers:\", clean_tokens)\n",
    "# Result: Tokens without markers: ['Hello', 'world']"
   ]
  },
  {
   "cell_type": "markdown",
   "metadata": {},
   "source": [
    "#### List Comprehensions for Processing"
   ]
  },
  {
   "cell_type": "code",
   "execution_count": 3,
   "metadata": {},
   "outputs": [
    {
     "name": "stdout",
     "output_type": "stream",
     "text": [
      "Tokens in uppercase: ['HELLO', 'WORLD']\n"
     ]
    }
   ],
   "source": [
    "uppercase_tokens = [t.upper() for t in clean_tokens]\n",
    "print(\"Tokens in uppercase:\", uppercase_tokens)\n",
    "# Result: Tokens in uppercase: ['HELLO', 'WORLD']"
   ]
  },
  {
   "cell_type": "markdown",
   "metadata": {},
   "source": [
    "#### Filtering with Conditions"
   ]
  },
  {
   "cell_type": "code",
   "execution_count": 4,
   "metadata": {},
   "outputs": [
    {
     "name": "stdout",
     "output_type": "stream",
     "text": [
      "Tokens with more than 3 characters: ['[START]', 'Hello', 'world', '[END]']\n"
     ]
    }
   ],
   "source": [
    "# Filtering with conditions\n",
    "long_tokens = [t for t in tokens if len(t) > 3]\n",
    "print(\"Tokens with more than 3 characters:\", long_tokens)\n",
    "# Result: Tokens with more than 3 characters: ['[START]', 'world', '[END]']"
   ]
  },
  {
   "cell_type": "markdown",
   "metadata": {},
   "source": [
    "### 2. Dictionaries for Configuration and Metadata"
   ]
  },
  {
   "cell_type": "code",
   "execution_count": 5,
   "metadata": {},
   "outputs": [],
   "source": [
    "# Basic LLM configuration\n",
    "config = {\n",
    "    'model': 'gpt-3.5-turbo',\n",
    "    'temperature': 0.7,\n",
    "    'max_tokens': 100\n",
    "}"
   ]
  },
  {
   "cell_type": "markdown",
   "metadata": {},
   "source": [
    "#### Nested Dictionaries"
   ]
  },
  {
   "cell_type": "code",
   "execution_count": 6,
   "metadata": {},
   "outputs": [],
   "source": [
    "# Nested dictionaries\n",
    "complete_config = {\n",
    "    'model': {\n",
    "        'name': 'gpt-4',\n",
    "        'version': '2024',\n",
    "        'parameters': {\n",
    "            'temperature': 0.7,\n",
    "            'presence_penalty': 0.1\n",
    "        }\n",
    "    },\n",
    "    'api': {\n",
    "        'timeout': 30,\n",
    "        'retries': 3\n",
    "    }\n",
    "}"
   ]
  },
  {
   "cell_type": "markdown",
   "metadata": {},
   "source": [
    "### 3. Sets for Efficient Filtering"
   ]
  },
  {
   "cell_type": "code",
   "execution_count": 7,
   "metadata": {},
   "outputs": [],
   "source": [
    "# Creating a set of stop words\n",
    "stop_words = {'of', 'the', 'in', 'and', 'a', 'to'}\n",
    "\n",
    "# Filtering tokens with sets\n",
    "text_tokens = ['the', 'model', 'processes', 'the', 'text', 'and', 'generates', 'responses']\n",
    "filtered_tokens = [t for t in text_tokens if t not in stop_words]"
   ]
  },
  {
   "cell_type": "markdown",
   "metadata": {},
   "source": [
    "### 4. Tuples for Immutable Data"
   ]
  },
  {
   "cell_type": "code",
   "execution_count": 8,
   "metadata": {},
   "outputs": [],
   "source": [
    "from collections import namedtuple\n",
    "\n",
    "# Creating a named tuple for configuration\n",
    "Config = namedtuple('Config', ['model', 'temperature', 'max_tokens'])\n",
    "\n",
    "# Instantiating the configuration\n",
    "default_config = Config('gpt-4', 0.7, 100)"
   ]
  }
 ],
 "metadata": {
  "kernelspec": {
   "display_name": "Python 3",
   "language": "python",
   "name": "python3"
  },
  "language_info": {
   "codemirror_mode": {
    "name": "ipython",
    "version": 3
   },
   "file_extension": ".py",
   "mimetype": "text/x-python",
   "name": "python",
   "nbconvert_exporter": "python",
   "pygments_lexer": "ipython3",
   "version": "3.11.8"
  }
 },
 "nbformat": 4,
 "nbformat_minor": 2
}
