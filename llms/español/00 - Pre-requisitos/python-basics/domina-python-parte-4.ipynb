{
 "cells": [
  {
   "cell_type": "markdown",
   "metadata": {},
   "source": [
    "# Domina Python para LLMs - Parte 4\n",
    "\n",
    "## Tipado explícito en Python: mejora la claridad y mantenibilidad del código\n",
    "\n",
    "### Introducción al tipado explícito\n",
    "\n",
    "#### Anotaciones de tipo básicas"
   ]
  },
  {
   "cell_type": "code",
   "execution_count": 1,
   "metadata": {},
   "outputs": [],
   "source": [
    "def sumar_numeros(a: int, b: int) -> int:\n",
    "    return a + b\n",
    "\n",
    "def procesar_texto(texto: str, mayusculas: bool = False) -> str:\n",
    "    return texto.upper() if mayusculas else texto"
   ]
  },
  {
   "cell_type": "markdown",
   "metadata": {},
   "source": [
    "### Tipos compuestos y genéricos"
   ]
  },
  {
   "cell_type": "code",
   "execution_count": 2,
   "metadata": {},
   "outputs": [],
   "source": [
    "from typing import List, Dict, Tuple, Optional, Union\n",
    "\n",
    "def filtrar_numeros(\n",
    "    numeros: List[int],\n",
    "    valor_minimo: Optional[int] = None\n",
    ") -> List[int]:\n",
    "    \"\"\"\n",
    "    Filtra una lista de números por un valor mínimo.\n",
    "\n",
    "    Args:\n",
    "        numeros: Lista de números a filtrar\n",
    "        valor_minimo: Valor mínimo para el filtro (opcional)\n",
    "\n",
    "    Returns:\n",
    "        Lista filtrada de números\n",
    "    \"\"\"\n",
    "    if valor_minimo is not None:\n",
    "        return [num for num in numeros if num >= valor_minimo]\n",
    "    return numeros\n",
    "\n",
    "def obtener_usuario(\n",
    "    datos: Dict[str, Union[str, int]]\n",
    ") -> Tuple[str, str, int]:\n",
    "    \"\"\"\n",
    "    Extrae información de usuario de un diccionario.\n",
    "\n",
    "    Args:\n",
    "        datos: Diccionario con información del usuario\n",
    "\n",
    "    Returns:\n",
    "        Tupla con nombre, apellido y edad\n",
    "    \"\"\"\n",
    "    return (\n",
    "        datos.get('nombre', ''),\n",
    "        datos.get('apellido', ''),\n",
    "        datos.get('edad', 0)\n",
    "    )"
   ]
  }
 ],
 "metadata": {
  "kernelspec": {
   "display_name": "Python 3",
   "language": "python",
   "name": "python3"
  },
  "language_info": {
   "codemirror_mode": {
    "name": "ipython",
    "version": 3
   },
   "file_extension": ".py",
   "mimetype": "text/x-python",
   "name": "python",
   "nbconvert_exporter": "python",
   "pygments_lexer": "ipython3",
   "version": "3.11.8"
  }
 },
 "nbformat": 4,
 "nbformat_minor": 2
}
